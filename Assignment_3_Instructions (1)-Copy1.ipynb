{
 "cells": [
  {
   "cell_type": "markdown",
   "metadata": {
    "colab_type": "text",
    "id": "IvLvmewlxLix"
   },
   "source": [
    "<font face='georgia'>\n",
    "    \n",
    "   <h4><strong>What does tf-idf mean?</strong></h4>\n",
    "\n",
    "   <p>    \n",
    "Tf-idf stands for <em>term frequency-inverse document frequency</em>, and the tf-idf weight is a weight often used in information retrieval and text mining. This weight is a statistical measure used to evaluate how important a word is to a document in a collection or corpus. The importance increases proportionally to the number of times a word appears in the document but is offset by the frequency of the word in the corpus. Variations of the tf-idf weighting scheme are often used by search engines as a central tool in scoring and ranking a document's relevance given a user query.\n",
    "</p>\n",
    "    "
   ]
  },
  {
   "cell_type": "markdown",
   "metadata": {
    "colab_type": "text",
    "id": "4XLaGFUMxLiy"
   },
   "source": [
    "<font face='georgia'>\n",
    "    <h4><strong>How to Compute:</strong></h4>\n",
    "\n",
    "Typically, the tf-idf weight is composed by two terms: the first computes the normalized Term Frequency (TF), aka. the number of times a word appears in a document, divided by the total number of words in that document; the second term is the Inverse Document Frequency (IDF), computed as the logarithm of the number of the documents in the corpus divided by the number of documents where the specific term appears.\n",
    "\n",
    " <ul>\n",
    "    <li>\n",
    "<strong>TF:</strong> Term Frequency, which measures how frequently a term occurs in a document. Since every document is different in length, it is possible that a term would appear much more times in long documents than shorter ones. Thus, the term frequency is often divided by the document length (aka. the total number of terms in the document) as a way of normalization: <br>\n",
    "\n",
    "$TF(t) = \\frac{\\text{Number of times term t appears in a document}}{\\text{Total number of terms in the document}}.$\n",
    "</li>\n",
    "<li>\n",
    "<strong>IDF:</strong> Inverse Document Frequency, which measures how important a term is. While computing TF, all terms are considered equally important. However it is known that certain terms, such as \"is\", \"of\", and \"that\", may appear a lot of times but have little importance. Thus we need to weigh down the frequent terms while scale up the rare ones, by computing the following: <br>\n",
    "\n",
    "$IDF(t) = \\log_{e}\\frac{\\text{Total  number of documents}} {\\text{Number of documents with term t in it}}.$\n",
    "for numerical stabiltiy we will be changing this formula little bit\n",
    "$IDF(t) = \\log_{e}\\frac{\\text{Total  number of documents}} {\\text{Number of documents with term t in it}+1}.$\n",
    "</li>\n",
    "</ul>\n",
    "\n",
    "<br>\n",
    "<h4><strong>Example</strong></h4>\n",
    "<p>\n",
    "\n",
    "Consider a document containing 100 words wherein the word cat appears 3 times. The term frequency (i.e., tf) for cat is then (3 / 100) = 0.03. Now, assume we have 10 million documents and the word cat appears in one thousand of these. Then, the inverse document frequency (i.e., idf) is calculated as log(10,000,000 / 1,000) = 4. Thus, the Tf-idf weight is the product of these quantities: 0.03 * 4 = 0.12.\n",
    "</p>\n",
    "</font>"
   ]
  },
  {
   "cell_type": "markdown",
   "metadata": {
    "colab_type": "text",
    "id": "OnV82tg1xLi0"
   },
   "source": [
    "### Corpus"
   ]
  },
  {
   "cell_type": "code",
   "execution_count": 28,
   "metadata": {
    "colab": {},
    "colab_type": "code",
    "id": "bUsYm9wjxLi1"
   },
   "outputs": [],
   "source": [
    "## SkLearn# Collection of string documents\n",
    "\n",
    "corpus = [\n",
    "     'this is the first document',\n",
    "     'this document is the second document',\n",
    "     'and this is the third one',\n",
    "     'is this the first document',\n",
    "]"
   ]
  },
  {
   "cell_type": "markdown",
   "metadata": {
    "colab_type": "text",
    "id": "eLwmFZfKxLi4"
   },
   "source": [
    "### SkLearn Implementation"
   ]
  },
  {
   "cell_type": "code",
   "execution_count": 29,
   "metadata": {
    "colab": {},
    "colab_type": "code",
    "id": "Np4dfQOkxLi4"
   },
   "outputs": [],
   "source": [
    "from sklearn.feature_extraction.text import TfidfVectorizer\n",
    "vectorizer = TfidfVectorizer()\n",
    "vectorizer.fit(corpus)\n",
    "skl_output = vectorizer.transform(corpus)"
   ]
  },
  {
   "cell_type": "code",
   "execution_count": 30,
   "metadata": {
    "colab": {},
    "colab_type": "code",
    "id": "-7Om8YpYxLi6",
    "outputId": "0a3bd0f5-4424-4400-944f-4482a80bd799"
   },
   "outputs": [
    {
     "name": "stdout",
     "output_type": "stream",
     "text": [
      "['and', 'document', 'first', 'is', 'one', 'second', 'the', 'third', 'this']\n"
     ]
    }
   ],
   "source": [
    "# sklearn feature names, they are sorted in alphabetic order by default.\n",
    "\n",
    "print(vectorizer.get_feature_names())"
   ]
  },
  {
   "cell_type": "code",
   "execution_count": 31,
   "metadata": {
    "colab": {},
    "colab_type": "code",
    "id": "dTKplK96xLi-",
    "outputId": "53722fa2-6756-4aa0-f179-37b578bb6890"
   },
   "outputs": [
    {
     "name": "stdout",
     "output_type": "stream",
     "text": [
      "[1.91629073 1.22314355 1.51082562 1.         1.91629073 1.91629073\n",
      " 1.         1.91629073 1.        ]\n"
     ]
    }
   ],
   "source": [
    "# Here we will print the sklearn tfidf vectorizer idf values after applying the fit method\n",
    "# After using the fit function on the corpus the vocab has 9 words in it, and each has its idf value.\n",
    "\n",
    "print(vectorizer.idf_)"
   ]
  },
  {
   "cell_type": "code",
   "execution_count": 32,
   "metadata": {
    "colab": {},
    "colab_type": "code",
    "id": "-CTiWHygxLjA",
    "outputId": "8d5a9cde-2c29-4afe-f7b4-1547e88dba4f"
   },
   "outputs": [
    {
     "data": {
      "text/plain": [
       "(4, 9)"
      ]
     },
     "execution_count": 32,
     "metadata": {},
     "output_type": "execute_result"
    }
   ],
   "source": [
    "# shape of sklearn tfidf vectorizer output after applying transform method.\n",
    "\n",
    "skl_output.shape"
   ]
  },
  {
   "cell_type": "code",
   "execution_count": null,
   "metadata": {
    "colab": {},
    "colab_type": "code",
    "id": "bDKEpbA-xLjD",
    "outputId": "87dafd65-5313-443f-8c6e-1b05cc8c2543"
   },
   "outputs": [
    {
     "name": "stdout",
     "output_type": "stream",
     "text": [
      "  (0, 8)\t0.38408524091481483\n",
      "  (0, 6)\t0.38408524091481483\n",
      "  (0, 3)\t0.38408524091481483\n",
      "  (0, 2)\t0.5802858236844359\n",
      "  (0, 1)\t0.46979138557992045\n"
     ]
    }
   ],
   "source": [
    "# sklearn tfidf values for first line of the above corpus.\n",
    "# Here the output is a sparse matrix\n",
    "\n",
    "print(skl_output[0])"
   ]
  },
  {
   "cell_type": "code",
   "execution_count": 33,
   "metadata": {
    "colab": {},
    "colab_type": "code",
    "id": "3QWo34hexLjF",
    "outputId": "cdc04e08-989f-4bdc-dd7f-f1c82a9f90be"
   },
   "outputs": [
    {
     "name": "stdout",
     "output_type": "stream",
     "text": [
      "[[0.         0.46979139 0.58028582 0.38408524 0.         0.\n",
      "  0.38408524 0.         0.38408524]]\n"
     ]
    }
   ],
   "source": [
    "# sklearn tfidf values for first line of the above corpus.\n",
    "# To understand the output better, here we are converting the sparse output matrix to dense matrix and printing it.\n",
    "# Notice that this output is normalized using L2 normalization. sklearn does this by default.\n",
    "\n",
    "print(skl_output[0].toarray())"
   ]
  },
  {
   "cell_type": "code",
   "execution_count": 34,
   "metadata": {
    "colab": {},
    "colab_type": "code",
    "id": "HjuCcJwXxLjJ"
   },
   "outputs": [
    {
     "name": "stderr",
     "output_type": "stream",
     "text": [
      "100%|████████████████████████████████████████████████████████████████████████████████████████████| 4/4 [00:00<?, ?it/s]"
     ]
    },
    {
     "name": "stdout",
     "output_type": "stream",
     "text": [
      "The vocab of the given dataset is\n",
      "['and', 'document', 'first', 'is', 'one', 'second', 'the', 'third', 'this']\n",
      "------------------------------------------------------------------------------------------\n",
      "The idf values of each of words is \n",
      "{'and': 1.916290731874155, 'document': 1.2231435513142097, 'first': 1.5108256237659907, 'is': 1.0, 'one': 1.916290731874155, 'second': 1.916290731874155, 'the': 1.0, 'third': 1.916290731874155, 'this': 1.0}\n",
      "------------------------------------------------------------------------------------------\n",
      "The tfidf of the given corpus in array form is\n",
      "[[0.         0.46979139 0.58028582 0.38408524 0.         0.\n",
      "  0.38408524 0.         0.38408524]\n",
      " [0.         0.6876236  0.         0.28108867 0.         0.53864762\n",
      "  0.28108867 0.         0.28108867]\n",
      " [0.51184851 0.         0.         0.26710379 0.51184851 0.\n",
      "  0.26710379 0.51184851 0.26710379]\n",
      " [0.         0.46979139 0.58028582 0.38408524 0.         0.\n",
      "  0.38408524 0.         0.38408524]]\n",
      "------------------------------------------------------------------------------------------\n",
      "The shape of the tfidf vector is   (4, 9)\n"
     ]
    },
    {
     "name": "stderr",
     "output_type": "stream",
     "text": [
      "\n"
     ]
    }
   ],
   "source": [
    "from collections import Counter\n",
    "from tqdm import tqdm\n",
    "from scipy.sparse import csr_matrix\n",
    "import math\n",
    "import operator\n",
    "from sklearn.preprocessing import normalize\n",
    "import numpy\n",
    "import math\n",
    "\n",
    "\n",
    "def fit(dataset):\n",
    "    \"\"\"\n",
    "    This will give out a dictionary with the vocab(unique words) in the whole corpus \n",
    "    \"\"\"\n",
    "    unique_words = set() # Assign a set to store the unique word and sets avoids repetition of words.\n",
    "    if isinstance(dataset, list): # Check if dataset is a list of lists\n",
    "        for row in dataset: #For every row in the data corpus\n",
    "            for word in row.split(\" \"):\n",
    "                if len(word)<2: \n",
    "                    continue\n",
    "                unique_words.add(word)\n",
    "                #print(unique_words)\n",
    "        unique_words = sorted(list(unique_words))  # Converts the set to list and Sorts in alphabetical order\n",
    "        vocab = {j:i for i,j in enumerate(unique_words)}     # Creates a dict. of the unique words \n",
    "        return vocab\n",
    "    else:\n",
    "        print(\"Provide a list of sentences\")\n",
    "        \n",
    "def idf(dataset):\n",
    "    \"\"\"\n",
    "    This fucntion will give return a dictinary of the each word as a key with its idf as its value\"\"\"\n",
    "    N=len(dataset)\n",
    "    df=() \n",
    "    vocab = list(fit(dataset))\n",
    "    df = dict.fromkeys(vocab, 0) # Create a new dict with keys from the vocab.\n",
    "    token = 0 #initialize the number of times a word occurs in a document to the term TOKEN\n",
    "    for word in vocab:\n",
    "        token = 0\n",
    "        for sentence in dataset:\n",
    "            if sentence.count(word)>=1:\n",
    "                token = token+1\n",
    "        df[word]=token\n",
    "    idfDict=df.copy()\n",
    "    #print(idfDict)\n",
    "    for word, value in idfDict.items(): #Iterate through the dictionary to calculate the idf of each word (word-key, value-idf value) \n",
    "        idfDict[word]= 1+ (math.log((1+N)/(1+value)))\n",
    "    return idfDict\n",
    "\n",
    "\n",
    "def transform(dataset, vocab, idfDict):\n",
    "    \"\"\"\n",
    "    This function will return a sparse matrix representatiom of the tf idf values\n",
    "    \"\"\"\n",
    "    rows=[]\n",
    "    columns=[]\n",
    "    values=[]\n",
    "    if isinstance(dataset, list):\n",
    "        for idx, row in enumerate(tqdm(dataset)):\n",
    "            word_freq = Counter(row.split(\" \"))\n",
    "            #print(word_freq)\n",
    "            for word, freq in word_freq.items():\n",
    "                if len(word)<2:\n",
    "                    continue\n",
    "                col_index= vocab.get(word,-1)\n",
    "                if col_index != -1:\n",
    "                    rows.append(idx)\n",
    "                    columns.append(col_index)\n",
    "                    tf= freq/len(row)\n",
    "                    tfidf= tf * idfDict[word]\n",
    "                    values.append(tfidf)\n",
    "        return csr_matrix((values, (rows,columns)),shape=(len(dataset),len(vocab)))\n",
    "\n",
    "\n",
    "\n",
    "\n",
    "dataset= ['this is the first document','this document is the second document','and this is the third one','is this the first document']\n",
    "vocab=fit(dataset)\n",
    "#print(vocab)\n",
    "print(\"The vocab of the given dataset is\")\n",
    "print(list(vocab))\n",
    "print(\"---\"*30)\n",
    "idfDict =idf(dataset)\n",
    "print(\"The idf values of each of words is \")\n",
    "print(idfDict)\n",
    "print(\"---\"*30)\n",
    "output = transform(dataset,vocab,idfDict).toarray()\n",
    "#print(output)\n",
    "final_output = normalize(output, norm='l2', axis=1, copy=True, return_norm=False)\n",
    "print(\"The tfidf of the given corpus in array form is\")\n",
    "print(final_output)\n",
    "print(\"---\"*30)\n",
    "print(\"The shape of the tfidf vector is  \",final_output.shape)\n",
    "\n"
   ]
  },
  {
   "cell_type": "code",
   "execution_count": 35,
   "metadata": {
    "colab": {},
    "colab_type": "code",
    "id": "NHxPLlwNxLjL",
    "outputId": "9abd8e08-0e24-4975-9a13-4d3636d60323"
   },
   "outputs": [
    {
     "name": "stdout",
     "output_type": "stream",
     "text": [
      "Number of documents in corpus =  746\n",
      "['little music anything speak', 'best scene movie gerardo trying find song keeps running head', 'rest movie lacks art charm meaning emptiness works guess empty', 'wasted two hours', 'saw movie today thought good effort good messages kids', 'bit predictable', 'loved casting jimmy buffet science teacher']\n"
     ]
    }
   ],
   "source": [
    "# Below is the code to load the cleaned_strings pickle file provided\n",
    "# Here corpus is of list type\n",
    "\n",
    "import pickle\n",
    "with open('cleaned_strings', 'rb') as f:\n",
    "    corpus = pickle.load(f)\n",
    "    \n",
    "# printing the length of the corpus loaded\n",
    "print(\"Number of documents in corpus = \",len(corpus))\n",
    "print(corpus[3:10])"
   ]
  },
  {
   "cell_type": "code",
   "execution_count": 38,
   "metadata": {
    "colab": {},
    "colab_type": "code",
    "id": "1_DJnnR3xLjR"
   },
   "outputs": [
    {
     "name": "stdout",
     "output_type": "stream",
     "text": [
      "------------------------------------------------------------------------------------------\n"
     ]
    },
    {
     "name": "stderr",
     "output_type": "stream",
     "text": [
      "100%|█████████████████████████████████████████████████████████████████████████████| 746/746 [00:00<00:00, 81191.31it/s]"
     ]
    },
    {
     "name": "stdout",
     "output_type": "stream",
     "text": [
      "The top 50 idf values for the given corpus is:\n",
      "{'aailiyah': 6.922918004572872, 'abandoned': 6.922918004572872, 'abroad': 6.922918004572872, 'abstruse': 6.922918004572872, 'academy': 6.922918004572872, 'accents': 6.922918004572872, 'accessible': 6.922918004572872, 'acclaimed': 6.922918004572872, 'accolades': 6.922918004572872, 'accurately': 6.922918004572872, 'achille': 6.922918004572872, 'ackerman': 6.922918004572872, 'adams': 6.922918004572872, 'added': 6.922918004572872, 'admins': 6.922918004572872, 'admiration': 6.922918004572872, 'admitted': 6.922918004572872, 'adrift': 6.922918004572872, 'adventure': 6.922918004572872, 'aesthetically': 6.922918004572872, 'affected': 6.922918004572872, 'affleck': 6.922918004572872, 'afternoon': 6.922918004572872, 'agreed': 6.922918004572872, 'aimless': 6.922918004572872, 'aired': 6.922918004572872, 'akasha': 6.922918004572872, 'alert': 6.922918004572872, 'alike': 6.922918004572872, 'allison': 6.922918004572872, 'allowing': 6.922918004572872, 'alongside': 6.922918004572872, 'amateurish': 6.922918004572872, 'amazed': 6.922918004572872, 'amazingly': 6.922918004572872, 'amusing': 6.922918004572872, 'amust': 6.922918004572872, 'anatomist': 6.922918004572872, 'angela': 6.922918004572872, 'angelina': 6.922918004572872, 'angry': 6.922918004572872, 'anguish': 6.922918004572872, 'angus': 6.922918004572872, 'animals': 6.922918004572872, 'animated': 6.922918004572872, 'anita': 6.922918004572872, 'anniversary': 6.922918004572872, 'anthony': 6.922918004572872, 'antithesis': 6.922918004572872, 'anyway': 6.922918004572872}\n",
      "------------------------------------------------------------------------------------------\n",
      "The words with top 50 idf values are \n",
      "['aailiyah', 'abandoned', 'abroad', 'abstruse', 'academy', 'accents', 'accessible', 'acclaimed', 'accolades', 'accurately', 'achille', 'ackerman', 'adams', 'added', 'admins', 'admiration', 'admitted', 'adrift', 'adventure', 'aesthetically', 'affected', 'affleck', 'afternoon', 'agreed', 'aimless', 'aired', 'akasha', 'alert', 'alike', 'allison', 'allowing', 'alongside', 'amateurish', 'amazed', 'amazingly', 'amusing', 'amust', 'anatomist', 'angela', 'angelina', 'angry', 'anguish', 'angus', 'animals', 'animated', 'anita', 'anniversary', 'anthony', 'antithesis', 'anyway']\n",
      "------------------------------------------------------------------------------------------\n",
      "------------------------------------------------------------------------------------------\n",
      "THe final tfidf vector in dense form is\n",
      "[[0. 0. 0. ... 0. 0. 0.]\n",
      " [0. 0. 0. ... 0. 0. 0.]\n",
      " [0. 0. 0. ... 0. 0. 0.]\n",
      " ...\n",
      " [0. 0. 0. ... 0. 0. 0.]\n",
      " [0. 0. 0. ... 0. 0. 0.]\n",
      " [0. 0. 0. ... 0. 0. 0.]]\n",
      "------------------------------------------------------------------------------------------\n",
      "THe shape final tfidf vector is\n",
      "(746, 50)\n"
     ]
    },
    {
     "name": "stderr",
     "output_type": "stream",
     "text": [
      "\n"
     ]
    }
   ],
   "source": [
    "#For Dict sorting methods, used https://stackabuse.com/how-to-sort-dictionary-by-value-in-python/\n",
    "\n",
    "from collections import Counter\n",
    "from tqdm import tqdm\n",
    "from scipy.sparse import csr_matrix\n",
    "import math\n",
    "import operator\n",
    "from sklearn.preprocessing import normalize\n",
    "import numpy\n",
    "import math\n",
    "\n",
    "\n",
    "\n",
    "def fit(dataset):\n",
    "    \"\"\"\n",
    "    This will give out a dictionary of vocab(unique words) in the whole corpus \n",
    "    \"\"\"\n",
    "    unique_words = set()           # Assign a set to store the vocab(unique words) as set avoids the repetition of words.\n",
    "    if isinstance(dataset, list):      # Check if dataset is a list of lists\n",
    "        for row in dataset:            #For every row in the data corpus\n",
    "            for word in row.split(\" \"):\n",
    "                if len(word)<2: \n",
    "                    continue\n",
    "                unique_words.add(word)\n",
    "                #print(unique_words)\n",
    "        unique_words = sorted(list(unique_words))   # Convert the set to a list sorted in alphabetical order\n",
    "        vocab = {j:i for i,j in enumerate(unique_words)}\n",
    "        return vocab\n",
    "    else:\n",
    "        print(\"Provide a list of sentences\")\n",
    "        \n",
    "def idf(dataset):\n",
    "    \"\"\"\n",
    "    This will return a dict with the words and their idf values, but for the top 50 values only\n",
    "    This was modified from the idf function above\n",
    "    \"\"\"\n",
    "    N=len(dataset)\n",
    "    df=() #Start with making a dictionary of data frequency and use this to create a idf dictinary\n",
    "    vocab = list(fit(dataset))\n",
    "    df = dict.fromkeys(vocab, 0)\n",
    "    token = 0 #initiatilize the number of times a word occurs in a document to the term TOKEN\n",
    "    for word in vocab:\n",
    "        token = 0\n",
    "        for sentence in dataset:\n",
    "            if sentence.count(word)>=1:\n",
    "                token = token+1\n",
    "        df[word]=token\n",
    "    idfDict=df.copy()\n",
    "    #print(idfDict)\n",
    "    for word, value in idfDict.items():\n",
    "        idfDict[word]= 1+ (math.log((1+N)/(1+value)))\n",
    "    #print(idfDict)\n",
    "    #Create  a sorted tuple using the values for keys and then create a dict out of the sorted tuple\n",
    "    sorted_idfDic_tuple = sorted(idfDict.items(), key=operator.itemgetter(1),reverse=True)\n",
    "    #print(sorted_idfDic_tuple)\n",
    "    sorted_idfDict = {k: v for k, v in sorted_idfDic_tuple}\n",
    "    #print(sorted_idfDict)\n",
    "    top_50_values = dict(list(sorted_idfDict.items())[0:50])\n",
    "    #print(top_50_values)\n",
    "    return top_50_values\n",
    "\n",
    "\n",
    "def transform(dataset, vocab,idfDict):\n",
    "    \"\"\"\n",
    "    This function witll return a sparse matrix representation of the tfidf vector for the dataset\n",
    "    \"\"\"\n",
    "    rows=[]\n",
    "    columns=[]\n",
    "    values=[]\n",
    "    if isinstance(dataset, list):\n",
    "        for idx, row in enumerate(tqdm(dataset)):\n",
    "            word_freq = Counter(row.split(\" \"))\n",
    "            #print(word_freq)\n",
    "            for word, freq in word_freq.items():\n",
    "                if len(word)<2:\n",
    "                    continue\n",
    "                col_index= vocab.get(word,-1)\n",
    "                if col_index != -1:\n",
    "                    rows.append(idx)\n",
    "                    columns.append(col_index)\n",
    "                    tf= freq/len(row)\n",
    "                    tfidf= tf * idfDict[word]\n",
    "                    values.append(tfidf)\n",
    "        return csr_matrix((values, (rows,columns)),shape=(len(dataset),len(vocab)))\n",
    "\n",
    "\n",
    "\n",
    "dataset= corpus  #Did this as I wrote the code using the term dataset and did not want to confuse and change everything in the prgram\n",
    "vocab=fit(dataset)\n",
    "#print(\"The list of the whole vocab in the corpus is\")\n",
    "#print(vocab)\n",
    "#print(list(vocab))\n",
    "print(\"---\"*30)\n",
    "idfDict =idf(dataset)\n",
    "print(\"The top 50 idf values for the given corpus is:\")\n",
    "print(idfDict)\n",
    "print(\"---\"*30)\n",
    "#Create a new vocab with only top 50 idf values\n",
    "new_vocab ={j:i for i,j in enumerate(list(idfDict))}\n",
    "print(\"The words with top 50 idf values are \")\n",
    "print(list(new_vocab))\n",
    "print(\"---\"*30)\n",
    "vocab=new_vocab\n",
    "output = transform(dataset,new_vocab,idfDict).toarray()\n",
    "#print(output)\n",
    "print(\"---\"*30)\n",
    "final_output = normalize(output, norm='l2', axis=1, copy=True, return_norm=False)\n",
    "print(\"THe final tfidf vector in dense form is\")\n",
    "print(final_output)\n",
    "print(\"---\"*30) \n",
    "print(\"THe shape final tfidf vector is\")\n",
    "print(final_output.shape)\n"
   ]
  }
 ],
 "metadata": {
  "colab": {
   "collapsed_sections": [],
   "name": "Assignment_3_Instructions.ipynb",
   "provenance": []
  },
  "kernelspec": {
   "display_name": "Python 3 (ipykernel)",
   "language": "python",
   "name": "python3"
  },
  "language_info": {
   "codemirror_mode": {
    "name": "ipython",
    "version": 3
   },
   "file_extension": ".py",
   "mimetype": "text/x-python",
   "name": "python",
   "nbconvert_exporter": "python",
   "pygments_lexer": "ipython3",
   "version": "3.10.9"
  }
 },
 "nbformat": 4,
 "nbformat_minor": 1
}
